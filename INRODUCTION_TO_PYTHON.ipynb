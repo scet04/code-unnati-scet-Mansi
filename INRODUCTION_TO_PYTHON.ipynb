{
 "cells": [
  {
   "cell_type": "markdown",
   "id": "dab7711e",
   "metadata": {},
   "source": [
    "# BASIC MATHS OPERATION"
   ]
  },
  {
   "cell_type": "code",
   "execution_count": 120,
   "id": "9b48d2d7",
   "metadata": {},
   "outputs": [
    {
     "data": {
      "text/plain": [
       "14"
      ]
     },
     "execution_count": 120,
     "metadata": {},
     "output_type": "execute_result"
    }
   ],
   "source": [
    "5+9"
   ]
  },
  {
   "cell_type": "code",
   "execution_count": 121,
   "id": "b79b863a",
   "metadata": {},
   "outputs": [
    {
     "data": {
      "text/plain": [
       "-1"
      ]
     },
     "execution_count": 121,
     "metadata": {},
     "output_type": "execute_result"
    }
   ],
   "source": [
    "8-9"
   ]
  },
  {
   "cell_type": "code",
   "execution_count": 122,
   "id": "b3ca4470",
   "metadata": {},
   "outputs": [
    {
     "data": {
      "text/plain": [
       "63"
      ]
     },
     "execution_count": 122,
     "metadata": {},
     "output_type": "execute_result"
    }
   ],
   "source": [
    "9*7"
   ]
  },
  {
   "cell_type": "code",
   "execution_count": 123,
   "id": "dd031f38",
   "metadata": {},
   "outputs": [
    {
     "data": {
      "text/plain": [
       "4"
      ]
     },
     "execution_count": 123,
     "metadata": {},
     "output_type": "execute_result"
    }
   ],
   "source": [
    "2**2"
   ]
  },
  {
   "cell_type": "code",
   "execution_count": 124,
   "id": "4ba65b85",
   "metadata": {},
   "outputs": [
    {
     "data": {
      "text/plain": [
       "5.0"
      ]
     },
     "execution_count": 124,
     "metadata": {},
     "output_type": "execute_result"
    }
   ],
   "source": [
    "10/2"
   ]
  },
  {
   "cell_type": "code",
   "execution_count": 125,
   "id": "6736c8b3",
   "metadata": {},
   "outputs": [
    {
     "data": {
      "text/plain": [
       "6.2"
      ]
     },
     "execution_count": 125,
     "metadata": {},
     "output_type": "execute_result"
    }
   ],
   "source": [
    "1+2*3-4/5"
   ]
  },
  {
   "cell_type": "code",
   "execution_count": 126,
   "id": "49fc9758",
   "metadata": {},
   "outputs": [
    {
     "data": {
      "text/plain": [
       "500"
      ]
     },
     "execution_count": 126,
     "metadata": {},
     "output_type": "execute_result"
    }
   ],
   "source": [
    "100+400"
   ]
  },
  {
   "cell_type": "code",
   "execution_count": 127,
   "id": "20d93a71",
   "metadata": {},
   "outputs": [
    {
     "data": {
      "text/plain": [
       "59.75"
      ]
     },
     "execution_count": 127,
     "metadata": {},
     "output_type": "execute_result"
    }
   ],
   "source": [
    "10+5*10-10/40"
   ]
  },
  {
   "cell_type": "code",
   "execution_count": 128,
   "id": "836388af",
   "metadata": {},
   "outputs": [
    {
     "name": "stdout",
     "output_type": "stream",
     "text": [
      "Hello scet\n"
     ]
    }
   ],
   "source": [
    "print(\"Hello scet\")"
   ]
  },
  {
   "cell_type": "markdown",
   "id": "0ff512e2",
   "metadata": {},
   "source": [
    "# VARIABLE"
   ]
  },
  {
   "cell_type": "code",
   "execution_count": 129,
   "id": "979661e5",
   "metadata": {},
   "outputs": [],
   "source": [
    "a=58\n",
    "b=33.333333"
   ]
  },
  {
   "cell_type": "code",
   "execution_count": 130,
   "id": "0bcb9076",
   "metadata": {},
   "outputs": [
    {
     "data": {
      "text/plain": [
       "58"
      ]
     },
     "execution_count": 130,
     "metadata": {},
     "output_type": "execute_result"
    }
   ],
   "source": [
    "a"
   ]
  },
  {
   "cell_type": "code",
   "execution_count": 131,
   "id": "90c2ecdc",
   "metadata": {},
   "outputs": [
    {
     "data": {
      "text/plain": [
       "33.333333"
      ]
     },
     "execution_count": 131,
     "metadata": {},
     "output_type": "execute_result"
    }
   ],
   "source": [
    "b"
   ]
  },
  {
   "cell_type": "code",
   "execution_count": 132,
   "id": "035ffb78",
   "metadata": {},
   "outputs": [
    {
     "name": "stdout",
     "output_type": "stream",
     "text": [
      "33.333333\n"
     ]
    }
   ],
   "source": [
    "print(b)"
   ]
  },
  {
   "cell_type": "code",
   "execution_count": 133,
   "id": "2d1f4d93",
   "metadata": {},
   "outputs": [
    {
     "data": {
      "text/plain": [
       "int"
      ]
     },
     "execution_count": 133,
     "metadata": {},
     "output_type": "execute_result"
    }
   ],
   "source": [
    "type(a)"
   ]
  },
  {
   "cell_type": "code",
   "execution_count": 134,
   "id": "0aad6dc2",
   "metadata": {},
   "outputs": [
    {
     "data": {
      "text/plain": [
       "float"
      ]
     },
     "execution_count": 134,
     "metadata": {},
     "output_type": "execute_result"
    }
   ],
   "source": [
    "type(b)"
   ]
  },
  {
   "cell_type": "code",
   "execution_count": 135,
   "id": "0a698c90",
   "metadata": {},
   "outputs": [],
   "source": [
    "c=\"scet\""
   ]
  },
  {
   "cell_type": "code",
   "execution_count": 136,
   "id": "0381da4d",
   "metadata": {},
   "outputs": [
    {
     "data": {
      "text/plain": [
       "'scet'"
      ]
     },
     "execution_count": 136,
     "metadata": {},
     "output_type": "execute_result"
    }
   ],
   "source": [
    "c"
   ]
  },
  {
   "cell_type": "code",
   "execution_count": 137,
   "id": "df4bfb42",
   "metadata": {},
   "outputs": [
    {
     "data": {
      "text/plain": [
       "str"
      ]
     },
     "execution_count": 137,
     "metadata": {},
     "output_type": "execute_result"
    }
   ],
   "source": [
    "type(c)"
   ]
  },
  {
   "cell_type": "code",
   "execution_count": 138,
   "id": "8776287b",
   "metadata": {},
   "outputs": [],
   "source": [
    "d=True"
   ]
  },
  {
   "cell_type": "code",
   "execution_count": 139,
   "id": "6242b091",
   "metadata": {},
   "outputs": [
    {
     "data": {
      "text/plain": [
       "True"
      ]
     },
     "execution_count": 139,
     "metadata": {},
     "output_type": "execute_result"
    }
   ],
   "source": [
    "d"
   ]
  },
  {
   "cell_type": "code",
   "execution_count": 140,
   "id": "f45c8188",
   "metadata": {},
   "outputs": [
    {
     "data": {
      "text/plain": [
       "bool"
      ]
     },
     "execution_count": 140,
     "metadata": {},
     "output_type": "execute_result"
    }
   ],
   "source": [
    "type(d)"
   ]
  },
  {
   "cell_type": "markdown",
   "id": "16f67de6",
   "metadata": {},
   "source": [
    "# Math operation on variable"
   ]
  },
  {
   "cell_type": "code",
   "execution_count": 141,
   "id": "2742f445",
   "metadata": {},
   "outputs": [],
   "source": [
    "a=2\n",
    "b=4\n",
    "c=8\n",
    "d=10"
   ]
  },
  {
   "cell_type": "code",
   "execution_count": 142,
   "id": "70ea8970",
   "metadata": {},
   "outputs": [
    {
     "data": {
      "text/plain": [
       "6"
      ]
     },
     "execution_count": 142,
     "metadata": {},
     "output_type": "execute_result"
    }
   ],
   "source": [
    "a+b"
   ]
  },
  {
   "cell_type": "code",
   "execution_count": 143,
   "id": "ffa8bb87",
   "metadata": {},
   "outputs": [
    {
     "data": {
      "text/plain": [
       "0.4"
      ]
     },
     "execution_count": 143,
     "metadata": {},
     "output_type": "execute_result"
    }
   ],
   "source": [
    "b/d"
   ]
  },
  {
   "cell_type": "code",
   "execution_count": 144,
   "id": "de6946d5",
   "metadata": {},
   "outputs": [
    {
     "data": {
      "text/plain": [
       "4.0"
      ]
     },
     "execution_count": 144,
     "metadata": {},
     "output_type": "execute_result"
    }
   ],
   "source": [
    "c/a"
   ]
  },
  {
   "cell_type": "code",
   "execution_count": 145,
   "id": "eea99e0b",
   "metadata": {},
   "outputs": [
    {
     "data": {
      "text/plain": [
       "20"
      ]
     },
     "execution_count": 145,
     "metadata": {},
     "output_type": "execute_result"
    }
   ],
   "source": [
    "a*d"
   ]
  },
  {
   "cell_type": "code",
   "execution_count": 146,
   "id": "0c637617",
   "metadata": {},
   "outputs": [
    {
     "data": {
      "text/plain": [
       "24"
      ]
     },
     "execution_count": 146,
     "metadata": {},
     "output_type": "execute_result"
    }
   ],
   "source": [
    "a+b*c-d"
   ]
  },
  {
   "cell_type": "code",
   "execution_count": 147,
   "id": "aeda75f6",
   "metadata": {},
   "outputs": [
    {
     "data": {
      "text/plain": [
       "2"
      ]
     },
     "execution_count": 147,
     "metadata": {},
     "output_type": "execute_result"
    }
   ],
   "source": [
    "a%d"
   ]
  },
  {
   "cell_type": "code",
   "execution_count": 148,
   "id": "b70dd537",
   "metadata": {},
   "outputs": [
    {
     "data": {
      "text/plain": [
       "9.6"
      ]
     },
     "execution_count": 148,
     "metadata": {},
     "output_type": "execute_result"
    }
   ],
   "source": [
    "a+c-b/d"
   ]
  },
  {
   "cell_type": "code",
   "execution_count": 149,
   "id": "4a6ffe57",
   "metadata": {},
   "outputs": [
    {
     "data": {
      "text/plain": [
       "1024"
      ]
     },
     "execution_count": 149,
     "metadata": {},
     "output_type": "execute_result"
    }
   ],
   "source": [
    "a**d"
   ]
  },
  {
   "cell_type": "markdown",
   "id": "8fb92219",
   "metadata": {},
   "source": [
    "# use input keyword to take input from user"
   ]
  },
  {
   "cell_type": "code",
   "execution_count": 153,
   "id": "16e84a74",
   "metadata": {},
   "outputs": [
    {
     "name": "stdout",
     "output_type": "stream",
     "text": [
      "Enter the value of X:90\n"
     ]
    }
   ],
   "source": [
    "X = int(input(\"Enter the value of X:\"))"
   ]
  },
  {
   "cell_type": "code",
   "execution_count": 154,
   "id": "05f5db29",
   "metadata": {},
   "outputs": [
    {
     "data": {
      "text/plain": [
       "90"
      ]
     },
     "execution_count": 154,
     "metadata": {},
     "output_type": "execute_result"
    }
   ],
   "source": [
    "X"
   ]
  },
  {
   "cell_type": "code",
   "execution_count": 155,
   "id": "bbcbb63b",
   "metadata": {},
   "outputs": [
    {
     "name": "stdout",
     "output_type": "stream",
     "text": [
      "Enter the value of X:2\n",
      "Enter the value of Y:3\n",
      "8\n"
     ]
    }
   ],
   "source": [
    "X = int(input(\"Enter the value of X:\"))\n",
    "Y = int(input(\"Enter the value of Y:\"))\n",
    "Z = X**Y #power of X,Y\n",
    "print(Z)"
   ]
  },
  {
   "cell_type": "markdown",
   "id": "704bf9fe",
   "metadata": {},
   "source": [
    "# STRING CONCATENATION"
   ]
  },
  {
   "cell_type": "code",
   "execution_count": 156,
   "id": "07945db6",
   "metadata": {},
   "outputs": [],
   "source": [
    "str1=\"MANSI\"\n",
    "str2=\"BHAGVAGAR\"\n",
    "str3=\" \""
   ]
  },
  {
   "cell_type": "code",
   "execution_count": 157,
   "id": "57f40340",
   "metadata": {},
   "outputs": [
    {
     "data": {
      "text/plain": [
       "'MANSI'"
      ]
     },
     "execution_count": 157,
     "metadata": {},
     "output_type": "execute_result"
    }
   ],
   "source": [
    "str1"
   ]
  },
  {
   "cell_type": "code",
   "execution_count": 158,
   "id": "bf545c6c",
   "metadata": {},
   "outputs": [
    {
     "data": {
      "text/plain": [
       "'BHAGVAGAR'"
      ]
     },
     "execution_count": 158,
     "metadata": {},
     "output_type": "execute_result"
    }
   ],
   "source": [
    "str2"
   ]
  },
  {
   "cell_type": "code",
   "execution_count": 159,
   "id": "29ca581c",
   "metadata": {},
   "outputs": [
    {
     "data": {
      "text/plain": [
       "str"
      ]
     },
     "execution_count": 159,
     "metadata": {},
     "output_type": "execute_result"
    }
   ],
   "source": [
    "type(str2)"
   ]
  },
  {
   "cell_type": "code",
   "execution_count": 160,
   "id": "1b4374c5",
   "metadata": {},
   "outputs": [
    {
     "data": {
      "text/plain": [
       "'MANSI BHAGVAGAR'"
      ]
     },
     "execution_count": 160,
     "metadata": {},
     "output_type": "execute_result"
    }
   ],
   "source": [
    "str4= str1 + str3 + str2\n",
    "str4"
   ]
  },
  {
   "cell_type": "code",
   "execution_count": 161,
   "id": "8b90fa20",
   "metadata": {},
   "outputs": [
    {
     "data": {
      "text/plain": [
       "'MANSI BHAGVAGAR'"
      ]
     },
     "execution_count": 161,
     "metadata": {},
     "output_type": "execute_result"
    }
   ],
   "source": [
    "str5=str1 + \" \" +str2\n",
    "str5"
   ]
  },
  {
   "cell_type": "code",
   "execution_count": 162,
   "id": "7af6eaa5",
   "metadata": {},
   "outputs": [
    {
     "data": {
      "text/plain": [
       "'N'"
      ]
     },
     "execution_count": 162,
     "metadata": {},
     "output_type": "execute_result"
    }
   ],
   "source": [
    "#string slicing\n",
    "str5[2]"
   ]
  },
  {
   "cell_type": "code",
   "execution_count": 163,
   "id": "e9e07d37",
   "metadata": {},
   "outputs": [
    {
     "data": {
      "text/plain": [
       "'MANSI'"
      ]
     },
     "execution_count": 163,
     "metadata": {},
     "output_type": "execute_result"
    }
   ],
   "source": [
    "str5[0:5]"
   ]
  },
  {
   "cell_type": "code",
   "execution_count": 164,
   "id": "66ee1872",
   "metadata": {},
   "outputs": [
    {
     "data": {
      "text/plain": [
       "'MANSI'"
      ]
     },
     "execution_count": 164,
     "metadata": {},
     "output_type": "execute_result"
    }
   ],
   "source": [
    "str5[:5]"
   ]
  },
  {
   "cell_type": "code",
   "execution_count": 165,
   "id": "0e1d7ce4",
   "metadata": {},
   "outputs": [
    {
     "data": {
      "text/plain": [
       "'BHAGVAGAR'"
      ]
     },
     "execution_count": 165,
     "metadata": {},
     "output_type": "execute_result"
    }
   ],
   "source": [
    "str5[-9:]"
   ]
  },
  {
   "cell_type": "code",
   "execution_count": 166,
   "id": "8b8d1721",
   "metadata": {},
   "outputs": [
    {
     "data": {
      "text/plain": [
       "'AGAR'"
      ]
     },
     "execution_count": 166,
     "metadata": {},
     "output_type": "execute_result"
    }
   ],
   "source": [
    "str5[-4:]"
   ]
  },
  {
   "cell_type": "markdown",
   "id": "3765dad4",
   "metadata": {},
   "source": [
    "# TUPLES IN PYTHON"
   ]
  },
  {
   "cell_type": "code",
   "execution_count": 167,
   "id": "a2a43d0c",
   "metadata": {},
   "outputs": [],
   "source": [
    "tup1 = (\"scet\", 22, \"Mansi\", 45.5, 'surat', 99)"
   ]
  },
  {
   "cell_type": "code",
   "execution_count": 168,
   "id": "97da072f",
   "metadata": {},
   "outputs": [
    {
     "data": {
      "text/plain": [
       "('scet', 22, 'Mansi', 45.5, 'surat', 99)"
      ]
     },
     "execution_count": 168,
     "metadata": {},
     "output_type": "execute_result"
    }
   ],
   "source": [
    "tup1"
   ]
  },
  {
   "cell_type": "code",
   "execution_count": 169,
   "id": "69ed8a20",
   "metadata": {},
   "outputs": [
    {
     "data": {
      "text/plain": [
       "tuple"
      ]
     },
     "execution_count": 169,
     "metadata": {},
     "output_type": "execute_result"
    }
   ],
   "source": [
    "type(tup1)"
   ]
  },
  {
   "cell_type": "code",
   "execution_count": 170,
   "id": "35808ac6",
   "metadata": {},
   "outputs": [
    {
     "data": {
      "text/plain": [
       "'Mansi'"
      ]
     },
     "execution_count": 170,
     "metadata": {},
     "output_type": "execute_result"
    }
   ],
   "source": [
    "tup1[2]"
   ]
  },
  {
   "cell_type": "code",
   "execution_count": 171,
   "id": "9daec28c",
   "metadata": {},
   "outputs": [
    {
     "data": {
      "text/plain": [
       "(22, 'Mansi', 45.5)"
      ]
     },
     "execution_count": 171,
     "metadata": {},
     "output_type": "execute_result"
    }
   ],
   "source": [
    "tup1[1:4]"
   ]
  },
  {
   "cell_type": "code",
   "execution_count": 172,
   "id": "46b6fc35",
   "metadata": {},
   "outputs": [
    {
     "data": {
      "text/plain": [
       "('Mansi', 45.5, 'surat', 99)"
      ]
     },
     "execution_count": 172,
     "metadata": {},
     "output_type": "execute_result"
    }
   ],
   "source": [
    "tup1[-4:]"
   ]
  },
  {
   "cell_type": "code",
   "execution_count": 173,
   "id": "bacfddc0",
   "metadata": {},
   "outputs": [],
   "source": [
    "tup2 = (\"electrical\", \"ec\", \"ic\")"
   ]
  },
  {
   "cell_type": "code",
   "execution_count": 174,
   "id": "5440a0f8",
   "metadata": {},
   "outputs": [],
   "source": [
    "tup3= tup1 + tup2"
   ]
  },
  {
   "cell_type": "code",
   "execution_count": 175,
   "id": "1bc748f2",
   "metadata": {},
   "outputs": [
    {
     "data": {
      "text/plain": [
       "('scet', 22, 'Mansi', 45.5, 'surat', 99, 'electrical', 'ec', 'ic')"
      ]
     },
     "execution_count": 175,
     "metadata": {},
     "output_type": "execute_result"
    }
   ],
   "source": [
    "tup3"
   ]
  },
  {
   "cell_type": "code",
   "execution_count": 176,
   "id": "15b8f8d5",
   "metadata": {},
   "outputs": [
    {
     "data": {
      "text/plain": [
       "9"
      ]
     },
     "execution_count": 176,
     "metadata": {},
     "output_type": "execute_result"
    }
   ],
   "source": [
    "len(tup3)"
   ]
  },
  {
   "cell_type": "markdown",
   "id": "6f8c0f88",
   "metadata": {},
   "source": [
    "# LIST IN PYTHON"
   ]
  },
  {
   "cell_type": "code",
   "execution_count": 177,
   "id": "67a07da9",
   "metadata": {},
   "outputs": [
    {
     "data": {
      "text/plain": [
       "list"
      ]
     },
     "execution_count": 177,
     "metadata": {},
     "output_type": "execute_result"
    }
   ],
   "source": [
    "lst1 = [\"scet\", 22, \"Mansi\", 45.5, 'surat', 99]\n",
    "type(lst1)"
   ]
  },
  {
   "cell_type": "code",
   "execution_count": 178,
   "id": "6163724b",
   "metadata": {},
   "outputs": [],
   "source": [
    "lst1.remove(22)"
   ]
  },
  {
   "cell_type": "code",
   "execution_count": 179,
   "id": "4ed4987b",
   "metadata": {},
   "outputs": [
    {
     "data": {
      "text/plain": [
       "['scet', 'Mansi', 45.5, 'surat', 99]"
      ]
     },
     "execution_count": 179,
     "metadata": {},
     "output_type": "execute_result"
    }
   ],
   "source": [
    "lst1"
   ]
  },
  {
   "cell_type": "markdown",
   "id": "93582107",
   "metadata": {},
   "source": [
    "# DISCTIONARY"
   ]
  },
  {
   "cell_type": "code",
   "execution_count": 180,
   "id": "aee36a76",
   "metadata": {},
   "outputs": [],
   "source": [
    "dict1 = {\"university\" : \"Gtu\", \"Course\" : \"Electrical\", \"Subject\" : \"Python\"}"
   ]
  },
  {
   "cell_type": "code",
   "execution_count": 181,
   "id": "c3c269e1",
   "metadata": {},
   "outputs": [
    {
     "data": {
      "text/plain": [
       "{'university': 'Gtu', 'Course': 'Electrical', 'Subject': 'Python'}"
      ]
     },
     "execution_count": 181,
     "metadata": {},
     "output_type": "execute_result"
    }
   ],
   "source": [
    "dict1"
   ]
  },
  {
   "cell_type": "code",
   "execution_count": 182,
   "id": "ae4928dc",
   "metadata": {},
   "outputs": [
    {
     "data": {
      "text/plain": [
       "dict"
      ]
     },
     "execution_count": 182,
     "metadata": {},
     "output_type": "execute_result"
    }
   ],
   "source": [
    "type(dict1)"
   ]
  },
  {
   "cell_type": "code",
   "execution_count": 183,
   "id": "b7fdd3da",
   "metadata": {},
   "outputs": [
    {
     "name": "stdout",
     "output_type": "stream",
     "text": [
      "dict_keys(['university', 'Course', 'Subject'])\n"
     ]
    }
   ],
   "source": [
    "#print only key values\n",
    "print(dict1.keys())"
   ]
  },
  {
   "cell_type": "code",
   "execution_count": 184,
   "id": "3518c854",
   "metadata": {},
   "outputs": [
    {
     "name": "stdout",
     "output_type": "stream",
     "text": [
      "dict_values(['Gtu', 'Electrical', 'Python'])\n"
     ]
    }
   ],
   "source": [
    "#print only values\n",
    "print(dict1.values())"
   ]
  },
  {
   "cell_type": "code",
   "execution_count": 185,
   "id": "529068b7",
   "metadata": {},
   "outputs": [],
   "source": [
    "from math import pi"
   ]
  },
  {
   "cell_type": "code",
   "execution_count": 186,
   "id": "471ded55",
   "metadata": {},
   "outputs": [
    {
     "data": {
      "text/plain": [
       "3.141592653589793"
      ]
     },
     "execution_count": 186,
     "metadata": {},
     "output_type": "execute_result"
    }
   ],
   "source": [
    "pi"
   ]
  },
  {
   "cell_type": "code",
   "execution_count": 187,
   "id": "e2b4bf57",
   "metadata": {},
   "outputs": [
    {
     "data": {
      "text/plain": [
       "78.53981633974483"
      ]
     },
     "execution_count": 187,
     "metadata": {},
     "output_type": "execute_result"
    }
   ],
   "source": [
    "#Area of circle\n",
    "r=5\n",
    "area=pi*(r**2)\n",
    "area"
   ]
  },
  {
   "cell_type": "code",
   "execution_count": 188,
   "id": "c09f216a",
   "metadata": {},
   "outputs": [
    {
     "name": "stdout",
     "output_type": "stream",
     "text": [
      "0\n",
      "1\n",
      "2\n",
      "3\n",
      "4\n",
      "5\n",
      "6\n",
      "7\n",
      "8\n",
      "9\n"
     ]
    }
   ],
   "source": [
    "for i in range(10):\n",
    "    print(i)  "
   ]
  },
  {
   "cell_type": "markdown",
   "id": "2030a3ab",
   "metadata": {},
   "source": [
    "# PYTHON CONDITIONAL STATEMENT"
   ]
  },
  {
   "cell_type": "code",
   "execution_count": 191,
   "id": "e8676474",
   "metadata": {},
   "outputs": [
    {
     "name": "stdout",
     "output_type": "stream",
     "text": [
      "Negative number\n"
     ]
    }
   ],
   "source": [
    "#If statement\n",
    "\n",
    "num= 0\n",
    "if num > 0:\n",
    "    print(num,\"is a positiove number\")\n",
    "else:\n",
    "    print(\"Negative number\")"
   ]
  },
  {
   "cell_type": "code",
   "execution_count": 192,
   "id": "f6795d73",
   "metadata": {},
   "outputs": [
    {
     "name": "stdout",
     "output_type": "stream",
     "text": [
      "Negative number\n"
     ]
    }
   ],
   "source": [
    "#If else statement\n",
    "\n",
    "num= 0\n",
    "if num > 5:\n",
    "    print(num,\"is a positiove number\")\n",
    "else:\n",
    "    print(\"Negative number\")"
   ]
  },
  {
   "cell_type": "code",
   "execution_count": 194,
   "id": "eb76fcba",
   "metadata": {},
   "outputs": [
    {
     "name": "stdout",
     "output_type": "stream",
     "text": [
      "Zero\n"
     ]
    }
   ],
   "source": [
    "#nested if\n",
    "\n",
    "num= 0\n",
    "if num >= 0:\n",
    "    if num == 0:\n",
    "        print(\"Zero\")\n",
    "    else:\n",
    "        print(\"positive number\")\n",
    "else:\n",
    "    print(\"Negative number\")"
   ]
  },
  {
   "cell_type": "code",
   "execution_count": null,
   "id": "40ee0d17",
   "metadata": {},
   "outputs": [],
   "source": []
  }
 ],
 "metadata": {
  "kernelspec": {
   "display_name": "Python 3 (ipykernel)",
   "language": "python",
   "name": "python3"
  },
  "language_info": {
   "codemirror_mode": {
    "name": "ipython",
    "version": 3
   },
   "file_extension": ".py",
   "mimetype": "text/x-python",
   "name": "python",
   "nbconvert_exporter": "python",
   "pygments_lexer": "ipython3",
   "version": "3.9.12"
  }
 },
 "nbformat": 4,
 "nbformat_minor": 5
}
